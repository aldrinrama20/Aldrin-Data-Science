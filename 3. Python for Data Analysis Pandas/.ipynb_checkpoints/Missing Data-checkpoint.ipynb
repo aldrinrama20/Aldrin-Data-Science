{
 "cells": [
  {
   "cell_type": "markdown",
   "id": "3f072d79-ad8c-4661-8c4c-b0bae08c0489",
   "metadata": {},
   "source": [
    "**Missing Data**"
   ]
  },
  {
   "cell_type": "code",
   "execution_count": null,
   "id": "5d46881c-c2e2-430b-af8b-9231a58f24a1",
   "metadata": {},
   "outputs": [],
   "source": []
  }
 ],
 "metadata": {
  "kernelspec": {
   "display_name": "Python 3 (ipykernel)",
   "language": "python",
   "name": "python3"
  },
  "language_info": {
   "codemirror_mode": {
    "name": "ipython",
    "version": 3
   },
   "file_extension": ".py",
   "mimetype": "text/x-python",
   "name": "python",
   "nbconvert_exporter": "python",
   "pygments_lexer": "ipython3",
   "version": "3.12.7"
  }
 },
 "nbformat": 4,
 "nbformat_minor": 5
}
